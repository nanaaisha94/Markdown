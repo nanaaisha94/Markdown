{
 "cells": [
  {
   "cell_type": "markdown",
   "id": "04b660d1",
   "metadata": {},
   "source": [
    "# Data Science Tools and Ecosystem"
   ]
  },
  {
   "cell_type": "markdown",
   "id": "9943182f",
   "metadata": {},
   "source": [
    "In this notebook, Data Science Tools and Ecosystem are summarized."
   ]
  },
  {
   "cell_type": "markdown",
   "id": "9f1e5c25",
   "metadata": {},
   "source": [
    "**Objectives:**"
   ]
  },
  {
   "cell_type": "markdown",
   "id": "f1c250a7",
   "metadata": {},
   "source": [
    "* Popular languages used by data scientist\n",
    "* Commonly used libraries\n",
    "* Table creation \n",
    "* Simple arithmetic expresssion"
   ]
  },
  {
   "cell_type": "markdown",
   "id": "46473935",
   "metadata": {},
   "source": [
    "**Some of the popular languages that Data Scientists use are:**"
   ]
  },
  {
   "cell_type": "markdown",
   "id": "a615195c",
   "metadata": {},
   "source": [
    "1. PYTHON\n",
    "2. R\n",
    "3. SQL\n",
    "4. JAVA\n",
    "5. SCALA\n",
    "6. JULIA"
   ]
  },
  {
   "cell_type": "markdown",
   "id": "632e7b5b",
   "metadata": {},
   "source": [
    "**Some of the commonly used libraries used by Data Scientists include:**"
   ]
  },
  {
   "cell_type": "markdown",
   "id": "85be480b",
   "metadata": {},
   "source": [
    "1. PANDAS\n",
    "2. NUMPY\n",
    "3. MATPLOTLIB\n",
    "4. SEABORN\n",
    "5. SKLEARN\n",
    "6. DPLYR\n",
    "7. STRINGR\n",
    "8. GGPLOT\n",
    "9. CARET\n"
   ]
  },
  {
   "cell_type": "markdown",
   "id": "54951748",
   "metadata": {},
   "source": [
    "| Data Science Tools |\n",
    "| -------------------|\n",
    "| Jupyter Notebook |\n",
    "| Pytorch |\n",
    "| Apache Spark|\n",
    "| Apache Hadoop |\n",
    "| TensorFlow |\n"
   ]
  },
  {
   "cell_type": "markdown",
   "id": "725f6b03",
   "metadata": {},
   "source": [
    "### Below are a few examples of evaluating arithmetic expressions in Python"
   ]
  },
  {
   "cell_type": "code",
   "execution_count": 2,
   "id": "1eddce25",
   "metadata": {},
   "outputs": [
    {
     "data": {
      "text/plain": [
       "17"
      ]
     },
     "execution_count": 2,
     "metadata": {},
     "output_type": "execute_result"
    }
   ],
   "source": [
    "(3*4)+5  # this a simple arithmetic expression to mutiply then add integers"
   ]
  },
  {
   "cell_type": "code",
   "execution_count": 3,
   "id": "0417a489",
   "metadata": {},
   "outputs": [
    {
     "data": {
      "text/plain": [
       "3.3333333333333335"
      ]
     },
     "execution_count": 3,
     "metadata": {},
     "output_type": "execute_result"
    }
   ],
   "source": [
    "# This will convert 200 minutes to hours by diving by 60.\n",
    "200/60"
   ]
  },
  {
   "cell_type": "markdown",
   "id": "c922b21e",
   "metadata": {},
   "source": [
    "## Author\n",
    "Abubakar nana Aishah"
   ]
  },
  {
   "cell_type": "code",
   "execution_count": null,
   "id": "e928b31b",
   "metadata": {},
   "outputs": [],
   "source": []
  }
 ],
 "metadata": {
  "kernelspec": {
   "display_name": "Python 3 (ipykernel)",
   "language": "python",
   "name": "python3"
  },
  "language_info": {
   "codemirror_mode": {
    "name": "ipython",
    "version": 3
   },
   "file_extension": ".py",
   "mimetype": "text/x-python",
   "name": "python",
   "nbconvert_exporter": "python",
   "pygments_lexer": "ipython3",
   "version": "3.11.5"
  }
 },
 "nbformat": 4,
 "nbformat_minor": 5
}
